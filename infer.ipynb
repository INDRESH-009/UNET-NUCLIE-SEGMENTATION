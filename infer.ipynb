{
 "cells": [
  {
   "cell_type": "code",
   "execution_count": 1,
   "id": "c4deba2d",
   "metadata": {},
   "outputs": [],
   "source": [
    "import os\n",
    "import numpy as np\n",
    "import tensorflow as tf\n",
    "from skimage.transform import resize\n",
    "from skimage import morphology, measure\n",
    "from scipy import ndimage as ndi\n",
    "from skimage.feature import peak_local_max\n",
    "from skimage.segmentation import watershed\n",
    "import matplotlib.pyplot as plt"
   ]
  },
  {
   "cell_type": "code",
   "execution_count": null,
   "id": "922e36c4",
   "metadata": {},
   "outputs": [
    {
     "name": "stdout",
     "output_type": "stream",
     "text": [
      "/Users/indreshmr/Image-segmentation-unet\n",
      "True\n",
      "['model_for_nuclei_segmentation.keras']\n"
     ]
    }
   ],
   "source": [
    "# 1) sanity check\n",
    "print(os.getcwd())\n",
    "print(os.path.exists('model_for_nuclei_segmentation.keras'))\n",
    "print(glob.glob('**/*.keras', recursive=True))  # find it if you’re unsure\n",
    "\n",
    "# 2) correct load (no leading slash)\n",
    "MODEL_PATH = 'model_for_nuclei_segmentation.keras'\n",
    "\n",
    "def dice_coef(y_true, y_pred, smooth=1e-6):\n",
    "    y_true = tf.cast(y_true, tf.float32); y_pred = tf.cast(y_pred, tf.float32)\n",
    "    inter = tf.reduce_sum(y_true*y_pred, axis=[1,2,3])\n",
    "    denom = tf.reduce_sum(y_true, axis=[1,2,3]) + tf.reduce_sum(y_pred, axis=[1,2,3])\n",
    "    return tf.reduce_mean((2.*inter + smooth)/(denom + smooth))\n",
    "\n",
    "def dice_loss(y_true, y_pred): return 1.0 - dice_coef(y_true, y_pred)\n",
    "def bce_dice(y_true, y_pred):  return tf.keras.losses.binary_crossentropy(y_true, y_pred) + dice_loss(y_true, y_pred)\n",
    "\n",
    "model = tf.keras.models.load_model(\n",
    "    MODEL_PATH,\n",
    "    custom_objects={'dice_coef': dice_coef, 'dice_loss': dice_loss, 'bce_dice': bce_dice},\n",
    "    compile=False,safe_mode=False\n",
    ")\n"
   ]
  },
  {
   "cell_type": "code",
   "execution_count": null,
   "id": "a87799a7",
   "metadata": {},
   "outputs": [],
   "source": [
    "# ---------- 2) Predict on all test images ----------\n",
    "# NOTE: your model already divides by 255 inside (Lambda), so pass raw X_test.\n",
    "preds_prob = model.predict(X_test, batch_size=8, verbose=1)  # shape: (N, 128, 128, 1)\n",
    "\n",
    "# ---------- 3) Threshold ----------\n",
    "THRESH = 0.5\n",
    "preds_bin_128 = (preds_prob > THRESH).astype(np.uint8)\n",
    "\n",
    "# ---------- 4) Resize masks back to original dimensions ----------\n",
    "# Use nearest-neighbor (order=0) and NO anti-aliasing to keep binary masks crisp.\n",
    "preds_bin_orig = []\n",
    "for i in range(len(preds_bin_128)):\n",
    "    h, w = sizes_test[i]  # (H, W) saved during loading\n",
    "    m = resize(preds_bin_128[i, :, :, 0], (h, w),\n",
    "               order=0, preserve_range=True, anti_aliasing=False).astype(np.uint8)\n",
    "    preds_bin_orig.append(m)\n",
    "preds_bin_orig = np.array(preds_bin_orig, dtype=np.uint8)\n"
   ]
  },
  {
   "cell_type": "code",
   "execution_count": null,
   "id": "e3982b16",
   "metadata": {},
   "outputs": [],
   "source": [
    "os.makedirs('pred_masks_binary', exist_ok=True)\n",
    "os.makedirs('pred_masks_instance', exist_ok=True)\n",
    "for i, id_ in enumerate(test_ids):\n",
    "    # Save binary mask\n",
    "    plt.imsave(f'pred_masks_binary/{id_}.png', preds_bin_orig[i], cmap='gray')\n",
    "\n",
    "    # Save instance mask with a label colormap (matshow will produce colors for each id)\n",
    "    plt.figure(figsize=(4,4))\n",
    "    plt.axis('off')\n",
    "    plt.imshow(preds_inst_orig[i])  # integer labels; matplotlib will color them\n",
    "    plt.tight_layout()\n",
    "    plt.savefig(f'pred_masks_instance/{id_}.png', bbox_inches='tight', pad_inches=0)\n",
    "    plt.close()\n"
   ]
  }
 ],
 "metadata": {
  "kernelspec": {
   "display_name": "venv (3.13.2)",
   "language": "python",
   "name": "python3"
  },
  "language_info": {
   "codemirror_mode": {
    "name": "ipython",
    "version": 3
   },
   "file_extension": ".py",
   "mimetype": "text/x-python",
   "name": "python",
   "nbconvert_exporter": "python",
   "pygments_lexer": "ipython3",
   "version": "3.13.2"
  }
 },
 "nbformat": 4,
 "nbformat_minor": 5
}
